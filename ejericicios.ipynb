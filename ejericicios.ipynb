{
 "cells": [
  {
   "cell_type": "code",
   "execution_count": null,
   "metadata": {},
   "outputs": [],
   "source": [
    "#Execise 6\n",
    "#Multiple assignment\n",
    "a, b = 0, 1\n",
    "while a < 10:\n",
    "    print(a)\n",
    "    a,b = b, a+b"
   ]
  },
  {
   "cell_type": "code",
   "execution_count": 7,
   "metadata": {},
   "outputs": [
    {
     "name": "stdout",
     "output_type": "stream",
     "text": [
      "What is your name?\n",
      "Me alegro de conocerlo, fer\n"
     ]
    }
   ],
   "source": [
    "#Exercise 7\n",
    "#f-strings\n",
    "print(\"What is your name?\")\n",
    "name = input()\n",
    "print(f'Me alegro de conocerlo, {name}')"
   ]
  },
  {
   "cell_type": "code",
   "execution_count": 6,
   "metadata": {},
   "outputs": [
    {
     "name": "stdout",
     "output_type": "stream",
     "text": [
      "What is your name, Hello, fer\n"
     ]
    }
   ],
   "source": [
    "#Exercice 8\n",
    "#user end()\n",
    "print('What is your name, ', end='')\n",
    "name = input()\n",
    "print(f'Hello, {name}')"
   ]
  },
  {
   "cell_type": "code",
   "execution_count": 8,
   "metadata": {},
   "outputs": [
    {
     "name": "stdout",
     "output_type": "stream",
     "text": [
      "Hello fer\n"
     ]
    }
   ],
   "source": [
    "#exercise 9\n",
    "name = input('What is your name ')\n",
    "print(f'Hello {name}')"
   ]
  },
  {
   "cell_type": "code",
   "execution_count": 9,
   "metadata": {},
   "outputs": [
    {
     "name": "stdout",
     "output_type": "stream",
     "text": [
      "Hello fer gon\n"
     ]
    }
   ],
   "source": [
    "#Exercise 10\n",
    "#Variables with arguments\n",
    "name = input('Your name ')\n",
    "lastName = input(f'What is your last name {name}')\n",
    "print(f'Hello {name} {lastName}')"
   ]
  },
  {
   "cell_type": "code",
   "execution_count": 10,
   "metadata": {},
   "outputs": [
    {
     "name": "stdout",
     "output_type": "stream",
     "text": [
      "The diferent is, -5\n"
     ]
    }
   ],
   "source": [
    "#exercise 11\n",
    "#int\n",
    "number1 = int(input('Number 1: '))\n",
    "number2 = int(input(f'Number greater than : {number1}'))\n",
    "print(f'The diferent is, {number1 - number2}')\n"
   ]
  }
 ],
 "metadata": {
  "kernelspec": {
   "display_name": "Python 3",
   "language": "python",
   "name": "python3"
  },
  "language_info": {
   "codemirror_mode": {
    "name": "ipython",
    "version": 3
   },
   "file_extension": ".py",
   "mimetype": "text/x-python",
   "name": "python",
   "nbconvert_exporter": "python",
   "pygments_lexer": "ipython3",
   "version": "3.10.12"
  }
 },
 "nbformat": 4,
 "nbformat_minor": 2
}
