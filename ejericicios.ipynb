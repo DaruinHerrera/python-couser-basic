{
 "cells": [
  {
   "cell_type": "code",
   "execution_count": null,
   "metadata": {},
   "outputs": [],
   "source": [
    "#Execise 6\n",
    "#Multiple assignment\n",
    "a, b = 0, 1\n",
    "while a < 10:\n",
    "    print(a)\n",
    "    a,b = b, a+b"
   ]
  },
  {
   "cell_type": "code",
   "execution_count": 7,
   "metadata": {},
   "outputs": [
    {
     "name": "stdout",
     "output_type": "stream",
     "text": [
      "What is your name?\n",
      "Me alegro de conocerlo, fer\n"
     ]
    }
   ],
   "source": [
    "#Exercise 7\n",
    "#f-strings\n",
    "print(\"What is your name?\")\n",
    "name = input()\n",
    "print(f'Me alegro de conocerlo, {name}')"
   ]
  },
  {
   "cell_type": "code",
   "execution_count": 6,
   "metadata": {},
   "outputs": [
    {
     "name": "stdout",
     "output_type": "stream",
     "text": [
      "What is your name, Hello, fer\n"
     ]
    }
   ],
   "source": [
    "#Exercice 8\n",
    "#user end()\n",
    "print('What is your name, ', end='')\n",
    "name = input()\n",
    "print(f'Hello, {name}')"
   ]
  },
  {
   "cell_type": "code",
   "execution_count": 8,
   "metadata": {},
   "outputs": [
    {
     "name": "stdout",
     "output_type": "stream",
     "text": [
      "Hello fer\n"
     ]
    }
   ],
   "source": [
    "#exercise 9\n",
    "name = input('What is your name ')\n",
    "print(f'Hello {name}')"
   ]
  },
  {
   "cell_type": "code",
   "execution_count": 9,
   "metadata": {},
   "outputs": [
    {
     "name": "stdout",
     "output_type": "stream",
     "text": [
      "Hello fer gon\n"
     ]
    }
   ],
   "source": [
    "#Exercise 10\n",
    "#Variables with arguments\n",
    "name = input('Your name ')\n",
    "lastName = input(f'What is your last name {name}')\n",
    "print(f'Hello {name} {lastName}')"
   ]
  },
  {
   "cell_type": "code",
   "execution_count": 10,
   "metadata": {},
   "outputs": [
    {
     "name": "stdout",
     "output_type": "stream",
     "text": [
      "The diferent is, -5\n"
     ]
    }
   ],
   "source": [
    "#exercise 11\n",
    "#int\n",
    "number1 = int(input('Number 1: '))\n",
    "number2 = int(input(f'Number greater than : {number1}'))\n",
    "print(f'The diferent is, {number1 - number2}')\n"
   ]
  },
  {
   "cell_type": "code",
   "execution_count": null,
   "metadata": {},
   "outputs": [],
   "source": [
    "#exercice 12\n",
    "import math\n",
    "\n",
    "print(\"Ingrese un número\")\n",
    "number = int(input())\n",
    "calculate = math.pow(number,2)\n",
    "print(f'El cuadrado de ese número es: {calculate}')"
   ]
  },
  {
   "cell_type": "code",
   "execution_count": null,
   "metadata": {},
   "outputs": [],
   "source": [
    "#exercice 13\n",
    "import math\n",
    "\n",
    "print(\"Calculemos el area y la altura de un cilindrio. Ingrese el radio\")\n",
    "radio = int(input())\n",
    "\n",
    "print(\"Ingrese la altura\")\n",
    "heigh = int(input())\n",
    "\n",
    "volume = math.pi * math.pow(radio, 2) * heigh\n",
    "\n",
    "area = (2*math.pi *radio*heigh)+ 2*math.pi * math.pow(radio,2)\n",
    "\n",
    "print(f'El volumen del cilindro es: {volume} y su area es: {area}')"
   ]
  },
  {
   "cell_type": "code",
   "execution_count": null,
   "metadata": {},
   "outputs": [],
   "source": [
    "#exercice 14\n",
    "\n",
    "print(\"Convertidor metros a centrimetro.  Ingrese los metros que quiere convertir:\")\n",
    "\n",
    "meters=int(input())\n",
    "\n",
    "print(f\"{meters} metros son: {meters*100} centímetros.\")"
   ]
  },
  {
   "cell_type": "code",
   "execution_count": null,
   "metadata": {},
   "outputs": [],
   "source": [
    "#exercice 15\n",
    "\n",
    "# Define variables\n",
    "num1 = int(input(\"Ingrese el primer número: \"))\n",
    "num2 = int(input(\"Ingrese el segundo número: \"))\n",
    "\n",
    "#intercambio\n",
    "temp = num1\n",
    "num1 = num2\n",
    "num2 = temp\n",
    "\n",
    "# resultado\n",
    "print(f\"El nuevo valor de num1 es: {num1}\")\n",
    "print(f\"El nuevo valor de num2 es: {num2}\")"
   ]
  },
  {
   "cell_type": "code",
   "execution_count": null,
   "metadata": {},
   "outputs": [],
   "source": [
    "#exercice 16\n",
    "\n",
    "num1 = int(input(\"Ingrese el primer valor a sumar: \"))\n",
    "num2 = int(input(\"Ingrese el segundo valor a sumar: \"))\n",
    "\n",
    "print(f\"El resultado es: {num1+num2}\")"
   ]
  },
  {
   "cell_type": "code",
   "execution_count": null,
   "metadata": {},
   "outputs": [],
   "source": [
    "#exercice 17\n",
    "\n",
    "def print_multiplication_table(n, i=1):\n",
    "    if i <= 10:\n",
    "        print(f\"{n} * {i} = {n * i}\")\n",
    "        print_multiplication_table(n, i + 1)\n",
    "\n",
    "print_multiplication_table(3)"
   ]
  },
  {
   "cell_type": "code",
   "execution_count": null,
   "metadata": {},
   "outputs": [],
   "source": [
    "#exercice 18\n",
    "import math\n",
    "\n",
    "numero = float(input(\"Por favor, ingrese un número: \"))\n",
    "raiz_cuadrada = math.sqrt(numero)\n",
    "print(f\"La raíz cuadrada de {numero} es {raiz_cuadrada}\")"
   ]
  },
  {
   "cell_type": "code",
   "execution_count": null,
   "metadata": {},
   "outputs": [],
   "source": [
    "#exercice 19\n",
    "\n",
    "length = float(input(\"Ingrese la longitud del rectángulo: \"))\n",
    "width = float(input(\"Ingrese el ancho del rectángulo: \"))\n",
    "\n",
    "# Calculate area and perimeter\n",
    "area = length * width\n",
    "perimeter = 2 * (length + width)\n",
    "\n",
    "# print area and perimeter\n",
    "print(f\"El área del rectángulo es: {area} y el perímetro es: {perimeter} \")"
   ]
  },
  {
   "cell_type": "code",
   "execution_count": null,
   "metadata": {},
   "outputs": [],
   "source": [
    "#exercice 20\n",
    "\n",
    "feet = float(input(\"Ingrese la medida en pies: \"))\n",
    "\n",
    "inches = feet * 12\n",
    "\n",
    "print(f\"{feet} pies son {inches:.2f} pulgadas.\")"
   ]
  },
  {
   "cell_type": "code",
   "execution_count": null,
   "metadata": {},
   "outputs": [],
   "source": [
    "#exercice 21\n",
    "\n",
    "meters = float(input(\"Ingrese la cantidad de metros: \"))\n",
    "\n",
    "millimeters = meters * 1000\n",
    "\n",
    "print(f\"{meters} metros son {millimeters} milímetros.\")"
   ]
  },
  {
   "cell_type": "code",
   "execution_count": null,
   "metadata": {},
   "outputs": [],
   "source": [
    "#exercice 22\n",
    "\n",
    "num1 = 5\n",
    "num2 = 10\n",
    "num3 = 15\n",
    "num4 = 20\n",
    "num5 = 25\n",
    "\n",
    "promedio = (num1 + num2 + num3 + num4 + num5) / 5\n",
    "\n",
    "print(\"El promedio es:\", promedio)"
   ]
  }
 ],
 "metadata": {
  "kernelspec": {
   "display_name": "Python 3",
   "language": "python",
   "name": "python3"
  },
  "language_info": {
   "codemirror_mode": {
    "name": "ipython",
    "version": 3
   },
   "file_extension": ".py",
   "mimetype": "text/x-python",
   "name": "python",
   "nbconvert_exporter": "python",
   "pygments_lexer": "ipython3",
   "version": "3.10.12"
  }
 },
 "nbformat": 4,
 "nbformat_minor": 2
}
