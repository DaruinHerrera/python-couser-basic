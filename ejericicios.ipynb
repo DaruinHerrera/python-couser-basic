{
 "cells": [
  {
   "cell_type": "code",
   "execution_count": null,
   "metadata": {},
   "outputs": [],
   "source": [
    "#Exercise 6\n",
    "#Multiple assignment\n",
    "a, b = 0, 1\n",
    "while a < 10:\n",
    "    print(a)\n",
    "    a,b = b, a+b"
   ]
  },
  {
   "cell_type": "code",
   "execution_count": 7,
   "metadata": {},
   "outputs": [
    {
     "name": "stdout",
     "output_type": "stream",
     "text": [
      "What is your name?\n",
      "Me alegro de conocerlo, fer\n"
     ]
    }
   ],
   "source": [
    "#Exercise 7\n",
    "#f-strings\n",
    "print(\"What is your name?\")\n",
    "name = input()\n",
    "print(f'Me alegro de conocerlo, {name}')"
   ]
  },
  {
   "cell_type": "code",
   "execution_count": 6,
   "metadata": {},
   "outputs": [
    {
     "name": "stdout",
     "output_type": "stream",
     "text": [
      "What is your name, Hello, fer\n"
     ]
    }
   ],
   "source": [
    "#Exercise 8\n",
    "#user end()\n",
    "print('What is your name, ', end='')\n",
    "name = input()\n",
    "print(f'Hello, {name}')"
   ]
  },
  {
   "cell_type": "code",
   "execution_count": 8,
   "metadata": {},
   "outputs": [
    {
     "name": "stdout",
     "output_type": "stream",
     "text": [
      "Hello fer\n"
     ]
    }
   ],
   "source": [
    "#Exercise 9\n",
    "name = input('What is your name ')\n",
    "print(f'Hello {name}')"
   ]
  },
  {
   "cell_type": "code",
   "execution_count": 9,
   "metadata": {},
   "outputs": [
    {
     "name": "stdout",
     "output_type": "stream",
     "text": [
      "Hello fer gon\n"
     ]
    }
   ],
   "source": [
    "#Exercise 10\n",
    "#Variables with arguments\n",
    "name = input('Your name ')\n",
    "lastName = input(f'What is your last name {name}')\n",
    "print(f'Hello {name} {lastName}')"
   ]
  },
  {
   "cell_type": "code",
   "execution_count": 10,
   "metadata": {},
   "outputs": [
    {
     "name": "stdout",
     "output_type": "stream",
     "text": [
      "The diferent is, -5\n"
     ]
    }
   ],
   "source": [
    "#Exercise 11\n",
    "#int\n",
    "number1 = int(input('Number 1: '))\n",
    "number2 = int(input(f'Number greater than : {number1}'))\n",
    "print(f'The diferent is, {number1 - number2}')\n"
   ]
  },
  {
   "cell_type": "code",
   "execution_count": null,
   "metadata": {},
   "outputs": [],
   "source": [
    "#Exercise 12\n",
    "import math\n",
    "\n",
    "print(\"Ingrese un número\")\n",
    "number = int(input())\n",
    "calculate = math.pow(number,2)\n",
    "print(f'El cuadrado de ese número es: {calculate}')"
   ]
  },
  {
   "cell_type": "code",
   "execution_count": null,
   "metadata": {},
   "outputs": [],
   "source": [
    "#Exercise 13\n",
    "import math\n",
    "\n",
    "print(\"Calculemos el area y la altura de un cilindrio. Ingrese el radio\")\n",
    "radio = int(input())\n",
    "\n",
    "print(\"Ingrese la altura\")\n",
    "heigh = int(input())\n",
    "\n",
    "volume = math.pi * math.pow(radio, 2) * heigh\n",
    "\n",
    "area = (2*math.pi *radio*heigh)+ 2*math.pi * math.pow(radio,2)\n",
    "\n",
    "print(f'El volumen del cilindro es: {volume} y su area es: {area}')"
   ]
  },
  {
   "cell_type": "code",
   "execution_count": null,
   "metadata": {},
   "outputs": [],
   "source": [
    "#Exercise 14\n",
    "\n",
    "print(\"Convertidor metros a centrimetro.  Ingrese los metros que quiere convertir:\")\n",
    "\n",
    "meters=int(input())\n",
    "\n",
    "print(f\"{meters} metros son: {meters*100} centímetros.\")"
   ]
  },
  {
   "cell_type": "code",
   "execution_count": null,
   "metadata": {},
   "outputs": [],
   "source": [
    "#Exercise 15\n",
    "\n",
    "# Define variables\n",
    "num1 = int(input(\"Ingrese el primer número: \"))\n",
    "num2 = int(input(\"Ingrese el segundo número: \"))\n",
    "\n",
    "#intercambio\n",
    "temp = num1\n",
    "num1 = num2\n",
    "num2 = temp\n",
    "\n",
    "# resultado\n",
    "print(f\"El nuevo valor de num1 es: {num1}\")\n",
    "print(f\"El nuevo valor de num2 es: {num2}\")"
   ]
  },
  {
   "cell_type": "code",
   "execution_count": null,
   "metadata": {},
   "outputs": [],
   "source": [
    "#Exercise 16\n",
    "\n",
    "num1 = int(input(\"Ingrese el primer valor a sumar: \"))\n",
    "num2 = int(input(\"Ingrese el segundo valor a sumar: \"))\n",
    "\n",
    "print(f\"El resultado es: {num1+num2}\")"
   ]
  },
  {
   "cell_type": "code",
   "execution_count": null,
   "metadata": {},
   "outputs": [],
   "source": [
    "#Exercise 17\n",
    "\n",
    "def print_multiplication_table(n, i=1):\n",
    "    if i <= 10:\n",
    "        print(f\"{n} * {i} = {n * i}\")\n",
    "        print_multiplication_table(n, i + 1)\n",
    "\n",
    "print_multiplication_table(3)"
   ]
  },
  {
   "cell_type": "code",
   "execution_count": null,
   "metadata": {},
   "outputs": [],
   "source": [
    "#Exercise 18\n",
    "import math\n",
    "\n",
    "numero = float(input(\"Por favor, ingrese un número: \"))\n",
    "raiz_cuadrada = math.sqrt(numero)\n",
    "print(f\"La raíz cuadrada de {numero} es {raiz_cuadrada}\")"
   ]
  },
  {
   "cell_type": "code",
   "execution_count": null,
   "metadata": {},
   "outputs": [],
   "source": [
    "#Exercise 19\n",
    "\n",
    "length = float(input(\"Ingrese la longitud del rectángulo: \"))\n",
    "width = float(input(\"Ingrese el ancho del rectángulo: \"))\n",
    "\n",
    "# Calculate area and perimeter\n",
    "area = length * width\n",
    "perimeter = 2 * (length + width)\n",
    "\n",
    "# print area and perimeter\n",
    "print(f\"El área del rectángulo es: {area} y el perímetro es: {perimeter} \")"
   ]
  },
  {
   "cell_type": "code",
   "execution_count": null,
   "metadata": {},
   "outputs": [],
   "source": [
    "#Exercise 20\n",
    "\n",
    "feet = float(input(\"Ingrese la medida en pies: \"))\n",
    "\n",
    "inches = feet * 12\n",
    "\n",
    "print(f\"{feet} pies son {inches:.2f} pulgadas.\")"
   ]
  },
  {
   "cell_type": "code",
   "execution_count": null,
   "metadata": {},
   "outputs": [],
   "source": [
    "#Exercise 21\n",
    "\n",
    "meters = float(input(\"Ingrese la cantidad de metros: \"))\n",
    "\n",
    "millimeters = meters * 1000\n",
    "\n",
    "print(f\"{meters} metros son {millimeters} milímetros.\")"
   ]
  },
  {
   "cell_type": "code",
   "execution_count": null,
   "metadata": {},
   "outputs": [],
   "source": [
    "#Exercise 22\n",
    "\n",
    "num1 = 5\n",
    "num2 = 10\n",
    "num3 = 15\n",
    "num4 = 20\n",
    "num5 = 25\n",
    "\n",
    "promedio = (num1 + num2 + num3 + num4 + num5) / 5\n",
    "\n",
    "print(\"El promedio es:\", promedio)"
   ]
  },
  {
   "cell_type": "code",
   "execution_count": null,
   "metadata": {},
   "outputs": [],
   "source": [
    "#Exercise 30\n",
    "hours = float(input(\"Add hours work : \"))\n",
    "salary = float(input(\"Add salary : \"))\n",
    "rate = float(input(\"Add  rate : \"))\n",
    "grossPayment = hours * salary\n",
    "totalTax = rate*grossPayment\n",
    "netPay = grossPayment - totalTax\n",
    "\n",
    "print(f'Your gross Payment is {grossPayment}')\n",
    "print(f'Your rate Payment is {totalTax}')\n",
    "print(f'Your net Payment is {netPay}')\n",
    "\n"
   ]
  },
  {
   "cell_type": "code",
   "execution_count": null,
   "metadata": {},
   "outputs": [],
   "source": [
    "#Exercise 31\n",
    "print('lottery play')\n",
    "number = int(input('add a number from 1 to 5000'))\n",
    "if number == 1000:\n",
    "    print('Win...¡')"
   ]
  },
  {
   "cell_type": "code",
   "execution_count": null,
   "metadata": {},
   "outputs": [],
   "source": [
    "#Exercise 32\n",
    "print(\"Exercise 32: the minor of two numbers\")\n",
    "number1= int(input(\"Enter the first number:\"))\n",
    "number2= int(input(\"Enter the second number: \"))\n",
    "if number1<number2:\n",
    "  print(\"firts number is the minor:\",number1)\n",
    "else: \n",
    "  print(\"second number is the minor:\",number2)"
   ]
  },
  {
   "cell_type": "code",
   "execution_count": null,
   "metadata": {},
   "outputs": [],
   "source": [
    "#Exercise 33\n",
    "number1 = int(input('add a number'))\n",
    "number2 = int(input('add other number'))\n",
    "if number1 < number2:\n",
    "    print('Number 1 is less')\n",
    "elif number2 < number1:\n",
    "    print('Number 2 is less')\n",
    "else:\n",
    "    print('Same')\n"
   ]
  },
  {
   "cell_type": "code",
   "execution_count": null,
   "metadata": {},
   "outputs": [],
   "source": [
    "#Exercise 34 \n",
    "day = input(\"Enter a day of the week: \")\n",
    "\n",
    "if day == 'Sunday':\n",
    "    print(\"Rest day.\")\n",
    "elif day == 'Monday':\n",
    "    print(\"work day.\")\n",
    "elif day == 'Tuesday':\n",
    "    print(\"work day.\")\n",
    "elif day == 'Wednesday':\n",
    "    print(\"work day.\")\n",
    "elif day == 'Thursday':\n",
    "    print(\"work day.\")\n",
    "elif day == 'Friday':\n",
    "    print(\"work day.\")\n",
    "elif day == 'Saturday':\n",
    "    print(\"Rest day.\")\n",
    "else:\n",
    "    print(\"Invalid selection.\")\n",
    "\n",
    "\n",
    "#exercise 34_2\n",
    "\n",
    "day = input(\"Enter a day of the week: \")\n",
    "if day==\"Monday\":\n",
    "    print(\"Oh, no.\")\n",
    "elif day==\"Friday\":\n",
    "    print(\"It's close.\")\n",
    "elif day==\"Sunday\" or day==\"Saturday\":\n",
    "  print(\"It's the weekend!\")\n",
    "else:\n",
    "  print(\"wait the weekend.\")"
   ]
  },
  {
   "cell_type": "code",
   "execution_count": null,
   "metadata": {},
   "outputs": [],
   "source": [
    "#Exercise 35\n",
    "number1 = int(input('add a number'))\n",
    "if number1 < 0:\n",
    "    number1 = number1 * -1\n",
    "print(f'absolute value {number1}')"
   ]
  },
  {
   "cell_type": "code",
   "execution_count": null,
   "metadata": {},
   "outputs": [],
   "source": [
    "#Exercise 44\n",
    "time = int(input('Call time'))\n",
    "total = 0\n",
    "if time < 3:\n",
    "    total = time * 10000\n",
    "else:\n",
    "    dif = time - 3\n",
    "    total = (3*10000) + (dif * 1500)\n",
    "print(f'Your payment total is {total}')\n"
   ]
  },
  {
   "cell_type": "code",
   "execution_count": null,
   "metadata": {},
   "outputs": [],
   "source": [
    "#Exercise 45\n",
    "\n",
    "amount_spent = int(input(\"Enter the amount of money: \"))\n",
    "\n",
    "if amount_spent <= 100000:\n",
    "  print(\"Pay with cash\")\n",
    "elif 100000 < amount_spent < 300000:\n",
    "  print(\"Pay with card\")\n",
    "else:\n",
    "  print(\"Pay with credit card\")"
   ]
  },
  {
   "cell_type": "code",
   "execution_count": null,
   "metadata": {},
   "outputs": [],
   "source": [
    "#Exercise 48_1\n",
    "for i in range(11):\n",
    "    print(i)"
   ]
  },
  {
   "cell_type": "code",
   "execution_count": null,
   "metadata": {},
   "outputs": [],
   "source": [
    "#Exercise 48_3\n",
    "print('Cycle from 10 to 100, increment of 10')\n",
    "for i in range(10, 110, 10):\n",
    "    print(i)"
   ]
  },
  {
   "cell_type": "code",
   "execution_count": 1,
   "metadata": {},
   "outputs": [
    {
     "name": "stdout",
     "output_type": "stream",
     "text": [
      "1\n",
      "40\n",
      "5\n"
     ]
    }
   ],
   "source": [
    "#Exercise 49\n",
    "vector = [1,40,5]\n",
    "for i in vector:\n",
    "    print(i)"
   ]
  },
  {
   "cell_type": "code",
   "execution_count": 2,
   "metadata": {},
   "outputs": [
    {
     "name": "stdout",
     "output_type": "stream",
     "text": [
      "1\n",
      "2\n",
      "3\n",
      "4\n",
      "5\n",
      "6\n",
      "7\n",
      "8\n",
      "9\n",
      "10\n"
     ]
    }
   ],
   "source": [
    "#Exercise 51\n",
    "i = 0\n",
    "while i < 10:\n",
    "    i +=1\n",
    "    print(i)"
   ]
  },
  {
   "cell_type": "code",
   "execution_count": null,
   "metadata": {},
   "outputs": [],
   "source": [
    "#Exercise 53.1\n",
    "#exercise 53_1\n",
    "\n",
    "for number in range(1, 11):\n",
    "    if number == 5:\n",
    "        break\n",
    "    print(number)\n",
    "\n",
    "#exercise 53_2\n",
    "\n",
    "while True:\n",
    "  value = int(input(\"Enter a integer number: \"))\n",
    "  if value % 2 != 0:\n",
    "    print(\"The number is odd\")\n",
    "    break\n",
    "  print(\"The number is even\")\n"
   ]
  },
  {
   "cell_type": "code",
   "execution_count": null,
   "metadata": {},
   "outputs": [],
   "source": [
    "#Exercise 58\n",
    "\n",
    "while True:\n",
    "    opcion = input(\"Elige una opción (1 o 2): \")\n",
    "    if opcion == \"1\":\n",
    "        print(\"Bienvenido!\")\n",
    "        break\n",
    "    elif opcion == \"2\":\n",
    "        print(\"Bienvenida!\")\n",
    "        break\n",
    "    else:\n",
    "        print(\"Por favor, elige una opción válida.\")"
   ]
  },
  {
   "cell_type": "code",
   "execution_count": 6,
   "metadata": {},
   "outputs": [
    {
     "name": "stdout",
     "output_type": "stream",
     "text": [
      "Addition = 10\n",
      "Average = 1.0\n"
     ]
    }
   ],
   "source": [
    "#Exercise 60\n",
    "numbers = 0\n",
    "for i in range(1, 11):\n",
    "    number = int(input(f'Add number {i}'))\n",
    "    numbers = numbers + number\n",
    "\n",
    "print(f'Addition = {numbers}')\n",
    "print(f'Average = {numbers/10}')\n"
   ]
  },
  {
   "cell_type": "code",
   "execution_count": null,
   "metadata": {},
   "outputs": [],
   "source": [
    "#Exercise 61\n",
    "\n",
    "for i in range(1, 501):\n",
    "    if i % 8 == 0:\n",
    "        print(i)"
   ]
  },
  {
   "cell_type": "code",
   "execution_count": null,
   "metadata": {},
   "outputs": [],
   "source": [
    "#Exercise 62\n",
    "\n",
    "def calcular_pago_descuento(cantidad_kilos, precio_por_kilo):\n",
    "    if cantidad_kilos > 10:\n",
    "        return cantidad_kilos  precio_por_kilo  0.85\n",
    "    else:\n",
    "        return cantidad_kilos * precio_por_kilo\n",
    "\n",
    "def calcular_total_tienda(clientes, precio_por_kilo):\n",
    "    total_tienda = 0\n",
    "    for cantidad_kilos in clientes:\n",
    "        total_tienda += calcular_pago_descuento(cantidad_kilos, precio_por_kilo)\n",
    "    return total_tienda\n",
    "\n",
    "# Datos de prueba\n",
    "n = int(input(\"Ingrese la cantidad de clientes: \"))\n",
    "precio_por_kilo = float(input(\"Ingrese el precio por kilo de naranja: \"))\n",
    "clientes = []\n",
    "for i in range( n):\n",
    "    kilos_cliente = float(input(f\"Ingrese la cantidad de kilos que el cliente {i+1} comprará: \"))\n",
    "    clientes.append(kilos_cliente)\n",
    "\n",
    "pagos_clientes = [calcular_pago_descuento(kilos, precio_por_kilo) for kilos in clientes]\n",
    "total_tienda = calcular_total_tienda(clientes, precio_por_kilo)\n",
    "\n",
    "print(\"Pagos con descuento, si aplica, para cada cliente:\")\n",
    "for i, pago in enumerate(pagos_clientes):\n",
    "    print(f\"Cliente {i+1}: {pago:.2f}\")\n",
    "\n",
    "print(f\"Total que percibirá la tienda por las compras: {total_tienda:.2f}\")"
   ]
  },
  {
   "cell_type": "code",
   "execution_count": null,
   "metadata": {},
   "outputs": [],
   "source": [
    "#Exercise 63\n",
    "\n",
    "# Define initial total cost\n",
    "total_cost = 0\n",
    "\n",
    "# Read the age from the user\n",
    "while True:\n",
    "    age = int(input(\"Enter the age of the visitor (or 0 to finish): \"))\n",
    "    if age == 0:\n",
    "        break  # Finish capturing data\n",
    "    elif 3 <= age <= 12:\n",
    "        total_cost += 24\n",
    "    elif age > 65:\n",
    "        total_cost += 28\n",
    "    else:\n",
    "        total_cost += 35\n",
    "\n",
    "# Output the total cost for the group\n",
    "print(f\"The total amount to pay for the group is: ${total_cost}\")"
   ]
  },
  {
   "cell_type": "code",
   "execution_count": null,
   "metadata": {},
   "outputs": [],
   "source": [
    "#Exercise 64\n",
    "\n",
    "def centro_verificacion(n):\n",
    "    if n <= 0:\n",
    "        return \"Número de automóviles debe ser mayor que cero.\"\n",
    "    \n",
    "    suma_puntos = 0\n",
    "    min_puntos = float('inf')\n",
    "    max_puntos = float('-inf')\n",
    "    \n",
    "    for i in range(n):\n",
    "        puntos_contaminantes = float(input(f\"Ingrese los puntos contaminantes del automóvil {i+1}: \"))\n",
    "        suma_puntos += puntos_contaminantes\n",
    "        \n",
    "        if puntos_contaminantes < min_puntos:\n",
    "            min_puntos = puntos_contaminantes\n",
    "            carro_menos_contamina = i+1\n",
    "        \n",
    "        if puntos_contaminantes > max_puntos:\n",
    "            max_puntos = puntos_contaminantes\n",
    "            carro_mas_contamina = i+1\n",
    "\n",
    "    promedio_puntos = suma_puntos / n\n",
    "    return (promedio_puntos, carro_menos_contamina, min_puntos, carro_mas_contamina, max_puntos)\n",
    "\n",
    "n = int(input(\"Ingrese el número de automóviles: \"))\n",
    "resultado = centro_verificacion(n)\n",
    "print(f\"El promedio de puntos contaminantes es: {resultado[0]}\")\n",
    "print(f\"El automóvil que menos contamina es el número {resultado[1]} con {resultado[2]} puntos contaminantes\")\n",
    "print(f\"El automóvil que más contamina es el número {resultado[3]} con {resultado[4]} puntos contaminantes\")"
   ]
  },
  {
   "cell_type": "code",
   "execution_count": null,
   "metadata": {},
   "outputs": [],
   "source": [
    "#Exercise 65\n",
    "number = int(input('Add number'))\n",
    "for i in range(1, 501):\n",
    "    if i % number == 0:\n",
    "        print(i)"
   ]
  },
  {
   "cell_type": "code",
   "execution_count": null,
   "metadata": {},
   "outputs": [],
   "source": [
    "#Exercise 66\n",
    "n = int(input('Add n'))\n",
    "x = input('Add x')\n",
    "for i in range(1, n):\n",
    "    print(f'X {i}')\n"
   ]
  },
  {
   "cell_type": "code",
   "execution_count": null,
   "metadata": {},
   "outputs": [],
   "source": [
    "#Exercise 67\n",
    "\n",
    "# Ask the user for the size of the square and the symbol to use\n",
    "size = int(input(\"Enter the size of the square: \"))\n",
    "symbol = input(\"Enter the symbol to draw the square: \")\n",
    "\n",
    "# Draw the square\n",
    "for i in range(size):\n",
    "    print(symbol * size)"
   ]
  }
 ],
 "metadata": {
  "kernelspec": {
   "display_name": "Python 3",
   "language": "python",
   "name": "python3"
  },
  "language_info": {
   "codemirror_mode": {
    "name": "ipython",
    "version": 3
   },
   "file_extension": ".py",
   "mimetype": "text/x-python",
   "name": "python",
   "nbconvert_exporter": "python",
   "pygments_lexer": "ipython3",
   "version": "3.10.9"
  }
 },
 "nbformat": 4,
 "nbformat_minor": 2
}
